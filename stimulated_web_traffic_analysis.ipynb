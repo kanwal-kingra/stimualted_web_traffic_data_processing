{
 "cells": [
  {
   "cell_type": "code",
   "execution_count": 11,
   "id": "c6b6c5e7-240b-4d5d-86b6-a79917fc5402",
   "metadata": {},
   "outputs": [],
   "source": [
    "import random\n",
    "import csv\n",
    "import time\n",
    "from datetime import datetime, timedelta\n",
    "\n",
    "def generate_traffic_data(number_of_rows):\n",
    "    pages = ['/home', '/about' , '/contact', '/services']\n",
    "    countries = ['US', 'India', 'Aus' , 'Phill', 'Swiss']\n",
    "    devices = ['mobile', 'desktop', 'tablet']\n",
    "    data = []\n",
    "\n",
    "    for _ in range(number_of_rows):\n",
    "        timestamp = datetime.now() - timedelta(seconds=random.randint(0, 86400))\n",
    "        user_id = random.randint(10001, 99999)\n",
    "        page_url = random.choice(pages)\n",
    "        session_duration = random.randint(100, 300)\n",
    "        country = random.choice(countries)\n",
    "        device = random.choice(devices)\n",
    "        data.append([timestamp.strftime('%Y-%m-%d %H:%M:%S'), user_id ,page_url, session_duration, country, device])\n",
    "    return data\n",
    "\n",
    "with open('web_traffic.csv', mode = 'w', newline = '') as file:\n",
    "    writer = csv.writer(file)\n",
    "    writer.writerow(['timestamp', 'user_id', 'page_url', 'session_duration', 'country', 'device'])\n",
    "    writer.writerows(generate_traffic_data(1000))"
   ]
  },
  {
   "cell_type": "code",
   "execution_count": 2,
   "id": "4db756e9-9b5f-4cfe-8406-d3416516d3f8",
   "metadata": {},
   "outputs": [
    {
     "name": "stdout",
     "output_type": "stream",
     "text": [
      "root\n",
      " |-- timestamp: string (nullable = true)\n",
      " |-- user_id: string (nullable = true)\n",
      " |-- page_url: string (nullable = true)\n",
      " |-- session_duration: string (nullable = true)\n",
      " |-- country: string (nullable = true)\n",
      " |-- device: string (nullable = true)\n",
      "\n"
     ]
    }
   ],
   "source": [
    "# read csv file using spark\n",
    "from pyspark.sql import SparkSession\n",
    "spark = SparkSession.builder\\\n",
    "          .getOrCreate()\n",
    "spark\n",
    "\n",
    "df = spark.read.csv('web_traffic.csv', header = True)\n",
    "df.printSchema()"
   ]
  },
  {
   "cell_type": "code",
   "execution_count": 3,
   "id": "e601aefe-03c2-4ea6-9d9e-ad14c0347106",
   "metadata": {},
   "outputs": [
    {
     "name": "stdout",
     "output_type": "stream",
     "text": [
      "root\n",
      " |-- timestamp: timestamp (nullable = true)\n",
      " |-- user_id: integer (nullable = true)\n",
      " |-- page_url: string (nullable = true)\n",
      " |-- session_duration: integer (nullable = true)\n",
      " |-- country: string (nullable = true)\n",
      " |-- device: string (nullable = true)\n",
      "\n"
     ]
    }
   ],
   "source": [
    "# Transformation Data Structuring (Preprocessing)\n",
    "# convert user id into int, timestamp into timestamp, session duration into int\n",
    "from pyspark.sql.functions import col\n",
    "from pyspark.sql.types import IntegerType, BooleanType, DataType\n",
    "\n",
    "df_new = df.withColumn('user_id', col('user_id').cast('int'))\\\n",
    ".withColumn('timestamp', col('timestamp').cast('timestamp'))\\\n",
    ".withColumn('session_duration', col('session_duration').cast('integer'))\n",
    "df_new.printSchema()"
   ]
  },
  {
   "cell_type": "code",
   "execution_count": 4,
   "id": "7d2ea506-2929-41a9-bce2-c97e3a5fb612",
   "metadata": {},
   "outputs": [
    {
     "name": "stdout",
     "output_type": "stream",
     "text": [
      "+-------------------+-------+---------+----------------+-------+-------+---------+\n",
      "|          timestamp|user_id| page_url|session_duration|country| device|user_rank|\n",
      "+-------------------+-------+---------+----------------+-------+-------+---------+\n",
      "|2025-04-07 06:17:35|  68160|/services|             100|  India|desktop|        1|\n",
      "|2025-04-06 21:22:58|  30242|   /about|             100|  Phill| mobile|        1|\n",
      "|2025-04-07 01:48:56|  26639|    /home|             101|    Aus| mobile|        2|\n",
      "|2025-04-07 12:41:45|  83704| /contact|             101|     US|desktop|        2|\n",
      "|2025-04-06 19:43:57|  11156|    /home|             101|  Swiss| mobile|        2|\n",
      "|2025-04-07 07:58:57|  27259| /contact|             101|  Swiss|desktop|        2|\n",
      "|2025-04-06 16:10:14|  59902| /contact|             101|  Swiss|desktop|        2|\n",
      "|2025-04-07 11:30:35|  30179|   /about|             102|    Aus| mobile|        3|\n",
      "|2025-04-06 19:15:06|  20931|    /home|             102|    Aus| mobile|        3|\n",
      "|2025-04-06 22:45:39|  76123|/services|             102|  Swiss| mobile|        3|\n",
      "|2025-04-06 21:08:33|  32083|   /about|             103|     US| tablet|        4|\n",
      "|2025-04-07 01:46:22|  71779| /contact|             103|  Phill| tablet|        4|\n",
      "|2025-04-06 19:27:14|  11312|    /home|             103|  India|desktop|        4|\n",
      "|2025-04-07 11:00:25|  25446|/services|             104|     US| mobile|        5|\n",
      "|2025-04-06 19:58:53|  18303|    /home|             104|  Swiss|desktop|        5|\n",
      "|2025-04-07 08:06:10|  48324| /contact|             104|  India| tablet|        5|\n",
      "|2025-04-07 01:47:21|  66099|   /about|             104|     US| tablet|        5|\n",
      "|2025-04-06 22:15:23|  59635|    /home|             105|  Phill|desktop|        6|\n",
      "|2025-04-07 12:31:15|  28974| /contact|             105|  India| tablet|        6|\n",
      "|2025-04-06 23:41:50|  35800| /contact|             105|  Phill| mobile|        6|\n",
      "+-------------------+-------+---------+----------------+-------+-------+---------+\n",
      "only showing top 20 rows\n",
      "\n"
     ]
    }
   ],
   "source": [
    "# Transfomration (business logic)\n",
    "from pyspark.sql import Window, types\n",
    "from pyspark.sql.functions import rank, dense_rank\n",
    "\n",
    "\n",
    "# rank users based on session_duration\n",
    "# withColumn behaves as => 'RANK() OVER() AS NEW_COL\n",
    "\n",
    "df_new.withColumn('user_rank', dense_rank().over(Window.orderBy('session_duration'))).show()\n",
    "# df_new.withColumn('user_id', dense_rank().over(Window.orderBy('session_duration'))).show()"
   ]
  },
  {
   "cell_type": "code",
   "execution_count": 5,
   "id": "41683d32-3e48-40a8-ad0b-8e60367ee5e6",
   "metadata": {},
   "outputs": [
    {
     "name": "stdout",
     "output_type": "stream",
     "text": [
      "+-------+-----+\n",
      "|country|count|\n",
      "+-------+-----+\n",
      "|  Swiss|  211|\n",
      "|  Phill|  170|\n",
      "|  India|  207|\n",
      "|    Aus|  204|\n",
      "|     US|  208|\n",
      "+-------+-----+\n",
      "\n",
      "+-------+----------------+\n",
      "| device|users per device|\n",
      "+-------+----------------+\n",
      "|desktop|             318|\n",
      "| mobile|             324|\n",
      "| tablet|             358|\n",
      "+-------+----------------+\n",
      "\n"
     ]
    }
   ],
   "source": [
    "# count number of users in each country\n",
    "df_new.groupBy('country').count().show()\n",
    "\n",
    "# count users based on devvice\n",
    "df_new.groupBy('device').count().withColumnRenamed('count','users per device').show()\n",
    "# df_new.groupBy('device').count().withColumn(col('count'), 'users per device').show() -- wrong use of withColumn"
   ]
  },
  {
   "cell_type": "code",
   "execution_count": 6,
   "id": "a0d0cc58-8a72-4401-bcb5-2c20ba578c3a",
   "metadata": {},
   "outputs": [
    {
     "name": "stdout",
     "output_type": "stream",
     "text": [
      "+-------------------+-------+---------+----------------+-------+-------+\n",
      "|          timestamp|user_id| page_url|session_duration|country| device|\n",
      "+-------------------+-------+---------+----------------+-------+-------+\n",
      "|2025-04-07 09:01:48|  70457|    /home|             263|  Swiss|desktop|\n",
      "|2025-04-07 07:42:07|  69876|/services|             221|  India| tablet|\n",
      "|2025-04-07 02:00:48|  67400|   /about|             296|  Swiss|desktop|\n",
      "|2025-04-07 03:26:08|  52613|/services|             113|  Phill| tablet|\n",
      "|2025-04-07 13:12:08|  99873| /contact|             248|     US| mobile|\n",
      "+-------------------+-------+---------+----------------+-------+-------+\n",
      "only showing top 5 rows\n",
      "\n",
      "+---------+-----+\n",
      "| page_url|count|\n",
      "+---------+-----+\n",
      "|   /about|  222|\n",
      "|    /home|  262|\n",
      "|/services|  266|\n",
      "| /contact|  250|\n",
      "+---------+-----+\n",
      "\n",
      "+---------+------+\n",
      "| page_url|visits|\n",
      "+---------+------+\n",
      "|/services|   266|\n",
      "+---------+------+\n",
      "\n"
     ]
    }
   ],
   "source": [
    "# most visited page url\n",
    "df_new.show(5)\n",
    "df_new.groupBy('page_url').count().alias('visits').show()\n",
    "\n",
    "df_new.groupBy('page_url').count().withColumnRenamed('count', 'visits').orderBy(col('visits'), ascending = False).limit(1).show()"
   ]
  },
  {
   "cell_type": "code",
   "execution_count": 7,
   "id": "11cccb32-55f1-4ef6-9288-20a570d7657a",
   "metadata": {},
   "outputs": [
    {
     "name": "stdout",
     "output_type": "stream",
     "text": [
      "+-------+---------------------+\n",
      "|country|max(session_duration)|\n",
      "+-------+---------------------+\n",
      "|  Swiss|                  299|\n",
      "|  Phill|                  299|\n",
      "|  India|                  300|\n",
      "|    Aus|                  299|\n",
      "|     US|                  300|\n",
      "+-------+---------------------+\n",
      "\n"
     ]
    }
   ],
   "source": [
    "# most active user\n",
    "# df_new.groupBy('country').max('session_duration').alias('last active user').show() \n",
    "df_new.groupBy('country').max('session_duration').alias('last_active_user').show()"
   ]
  },
  {
   "cell_type": "code",
   "execution_count": 14,
   "id": "cd407e74-ef53-4635-9fab-954edb131ca5",
   "metadata": {},
   "outputs": [
    {
     "name": "stdout",
     "output_type": "stream",
     "text": [
      "+-------------------+-------+--------+----------------+-------+------+\n",
      "|          timestamp|user_id|page_url|session_duration|country|device|\n",
      "+-------------------+-------+--------+----------------+-------+------+\n",
      "|2025-04-07 15:25:19|  77275|/contact|             130|  Swiss|mobile|\n",
      "+-------------------+-------+--------+----------------+-------+------+\n",
      "\n"
     ]
    }
   ],
   "source": [
    "# last active user based on timestamp\n",
    "df_new.orderBy('timestamp', ascending = False).limit(1).show()"
   ]
  }
 ],
 "metadata": {
  "kernelspec": {
   "display_name": "Python 3 (ipykernel)",
   "language": "python",
   "name": "python3"
  },
  "language_info": {
   "codemirror_mode": {
    "name": "ipython",
    "version": 3
   },
   "file_extension": ".py",
   "mimetype": "text/x-python",
   "name": "python",
   "nbconvert_exporter": "python",
   "pygments_lexer": "ipython3",
   "version": "3.11.6"
  }
 },
 "nbformat": 4,
 "nbformat_minor": 5
}
